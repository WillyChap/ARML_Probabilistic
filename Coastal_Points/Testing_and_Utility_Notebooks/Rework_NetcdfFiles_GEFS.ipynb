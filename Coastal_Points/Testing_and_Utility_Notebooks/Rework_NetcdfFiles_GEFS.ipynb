{
 "cells": [
  {
   "cell_type": "code",
   "execution_count": 2,
   "metadata": {},
   "outputs": [
    {
     "name": "stderr",
     "output_type": "stream",
     "text": [
      "/glade/work/dgagne/ncar_python_tf/lib/python3.6/site-packages/distributed/config.py:20: YAMLLoadWarning: calling yaml.load() without Loader=... is deprecated, as the default Loader is unsafe. Please read https://msg.pyyaml.org/load for full details.\n",
      "  defaults = yaml.load(f)\n"
     ]
    }
   ],
   "source": [
    "import xarray as xr\n",
    "import glob"
   ]
  },
  {
   "cell_type": "code",
   "execution_count": 2,
   "metadata": {},
   "outputs": [],
   "source": [
    "DAR=xr.open_dataset(\"/glade/scratch/wchapman/GEFS/F048/WY_2017_GEFS_F048.nc\")\n",
    "DARmean = DAR.mean(dim='ensemble')\n",
    "DAR=xr.open_dataset(\"/glade/scratch/wchapman/GEFS/F048/WY_2017_GEFS_F048.nc\")\n",
    "DARstd = DAR.std(dim='ensemble')\n",
    "DARmean = DARmean.rename(name_dict={'IVT':'IVT_mean'})\n",
    "DARstd = DARstd.rename(name_dict={'IVT':'IVT_std'})\n",
    "DARstd = DARstd.drop('IVTm')\n",
    "DAR = DAR.merge(DARmean)\n",
    "DAR = DAR.merge(DARstd)\n",
    "DAR = DAR.drop('IVT')\n",
    "# DAR.to_netcdf(\"/glade/scratch/wchapman/GEFS/F048/WY_2017_GEFS_F048_noEnse.nc\")"
   ]
  },
  {
   "cell_type": "code",
   "execution_count": 2,
   "metadata": {},
   "outputs": [
    {
     "ename": "NameError",
     "evalue": "name 'path' is not defined",
     "output_type": "error",
     "traceback": [
      "\u001b[0;31m---------------------------------------------------------------------------\u001b[0m",
      "\u001b[0;31mNameError\u001b[0m                                 Traceback (most recent call last)",
      "\u001b[0;32m<ipython-input-2-d505c4b0b9ee>\u001b[0m in \u001b[0;36m<module>\u001b[0;34m\u001b[0m\n\u001b[0;32m----> 1\u001b[0;31m \u001b[0mtrain_file_names\u001b[0m \u001b[0;34m=\u001b[0m \u001b[0msorted\u001b[0m\u001b[0;34m(\u001b[0m\u001b[0;34m[\u001b[0m\u001b[0mf\u001b[0m \u001b[0;32mfor\u001b[0m \u001b[0mf\u001b[0m \u001b[0;32min\u001b[0m \u001b[0mglob\u001b[0m\u001b[0;34m.\u001b[0m\u001b[0mglob\u001b[0m\u001b[0;34m(\u001b[0m\u001b[0mpath\u001b[0m \u001b[0;34m+\u001b[0m \u001b[0;34m\"/F120/WY*_F120_Clean.nc\"\u001b[0m\u001b[0;34m,\u001b[0m \u001b[0mrecursive\u001b[0m\u001b[0;34m=\u001b[0m\u001b[0;32mTrue\u001b[0m\u001b[0;34m)\u001b[0m\u001b[0;34m]\u001b[0m\u001b[0;34m)\u001b[0m\u001b[0;34m\u001b[0m\u001b[0;34m\u001b[0m\u001b[0m\n\u001b[0m",
      "\u001b[0;31mNameError\u001b[0m: name 'path' is not defined"
     ]
    }
   ],
   "source": [
    "train_file_names = sorted([f for f in glob.glob(path + \"/F120/WY*_F120_Clean.nc\", recursive=True)])"
   ]
  },
  {
   "cell_type": "code",
   "execution_count": 10,
   "metadata": {},
   "outputs": [
    {
     "data": {
      "text/plain": [
       "'/glade/scratch/wchapman/GEFS/F096/WY_2018_GEFS_F096'"
      ]
     },
     "execution_count": 10,
     "metadata": {},
     "output_type": "execute_result"
    }
   ],
   "source": [
    "f.split('_Clean')[0]"
   ]
  },
  {
   "cell_type": "markdown",
   "metadata": {},
   "source": [
    "## REDO file names"
   ]
  },
  {
   "cell_type": "code",
   "execution_count": 13,
   "metadata": {},
   "outputs": [
    {
     "name": "stdout",
     "output_type": "stream",
     "text": [
      "/glade/scratch/wchapman/GEFS/F120/WY_2016_GEFS_F120_Clean.nc\n",
      "/glade/scratch/wchapman/GEFS/F120/WY_2017_GEFS_F120_Clean.nc\n",
      "/glade/scratch/wchapman/GEFS/F120/WY_2018_GEFS_F120_Clean.nc\n"
     ]
    }
   ],
   "source": [
    "path ='/glade/scratch/wchapman/GEFS'\n",
    "\n",
    "\n",
    "train_file_names = sorted([f for f in glob.glob(path + \"/F120/WY*_F120_Clean.nc\", recursive=True)])\n",
    "for f in train_file_names:\n",
    "    print(f)\n",
    "    DAR=xr.open_dataset(f)\n",
    "    DARmean = DAR.mean(dim='ensemble')\n",
    "    DAR=xr.open_dataset(f)\n",
    "    DARstd = DAR.std(dim='ensemble')\n",
    "    DARmean = DARmean.rename(name_dict={'IVT':'IVT_mean'})\n",
    "    DARstd = DARstd.rename(name_dict={'IVT':'IVT_std'})\n",
    "    DARstd = DARstd.drop('IVTm')\n",
    "    DAR = DAR.merge(DARmean)\n",
    "    DAR = DAR.merge(DARstd)\n",
    "    DAR = DAR.drop('IVT')\n",
    "    DAR.to_netcdf(f.split('_Clean')[0]+'_noEnse.nc')\n",
    "    \n"
   ]
  },
  {
   "cell_type": "code",
   "execution_count": 4,
   "metadata": {},
   "outputs": [
    {
     "name": "stdout",
     "output_type": "stream",
     "text": [
      "F000\n",
      "/glade/scratch/wchapman/GEFS/F000/WY_2016_GEFS_F000_Clean.nc\n",
      "/glade/scratch/wchapman/GEFS/F000/WY_2017_GEFS_F000_Clean.nc\n",
      "/glade/scratch/wchapman/GEFS/F000/WY_2018_GEFS_F000_Clean.nc\n",
      "F006\n",
      "/glade/scratch/wchapman/GEFS/F006/WY_2016_GEFS_F006_Clean.nc\n",
      "/glade/scratch/wchapman/GEFS/F006/WY_2017_GEFS_F006_Clean.nc\n",
      "/glade/scratch/wchapman/GEFS/F006/WY_2018_GEFS_F006_Clean.nc\n",
      "F012\n",
      "/glade/scratch/wchapman/GEFS/F012/WY_2016_GEFS_F012_Clean.nc\n",
      "/glade/scratch/wchapman/GEFS/F012/WY_2017_GEFS_F012_Clean.nc\n",
      "/glade/scratch/wchapman/GEFS/F012/WY_2018_GEFS_F012_Clean.nc\n",
      "F018\n",
      "/glade/scratch/wchapman/GEFS/F018/WY_2016_GEFS_F018_Clean.nc\n",
      "/glade/scratch/wchapman/GEFS/F018/WY_2017_GEFS_F018_Clean.nc\n",
      "/glade/scratch/wchapman/GEFS/F018/WY_2018_GEFS_F018_Clean.nc\n",
      "F024\n",
      "/glade/scratch/wchapman/GEFS/F024/WY_2016_GEFS_F024_Clean.nc\n",
      "/glade/scratch/wchapman/GEFS/F024/WY_2017_GEFS_F024_Clean.nc\n",
      "/glade/scratch/wchapman/GEFS/F024/WY_2018_GEFS_F024_Clean.nc\n",
      "F030\n",
      "/glade/scratch/wchapman/GEFS/F030/WY_2016_GEFS_F030_Clean.nc\n",
      "/glade/scratch/wchapman/GEFS/F030/WY_2017_GEFS_F030_Clean.nc\n",
      "/glade/scratch/wchapman/GEFS/F030/WY_2018_GEFS_F030_Clean.nc\n",
      "F036\n",
      "/glade/scratch/wchapman/GEFS/F036/WY_2016_GEFS_F036_Clean.nc\n",
      "/glade/scratch/wchapman/GEFS/F036/WY_2017_GEFS_F036_Clean.nc\n",
      "/glade/scratch/wchapman/GEFS/F036/WY_2018_GEFS_F036_Clean.nc\n",
      "F042\n",
      "/glade/scratch/wchapman/GEFS/F042/WY_2016_GEFS_F042_Clean.nc\n",
      "/glade/scratch/wchapman/GEFS/F042/WY_2017_GEFS_F042_Clean.nc\n",
      "/glade/scratch/wchapman/GEFS/F042/WY_2018_GEFS_F042_Clean.nc\n",
      "F048\n",
      "/glade/scratch/wchapman/GEFS/F048/WY_2016_GEFS_F048_Clean.nc\n",
      "/glade/scratch/wchapman/GEFS/F048/WY_2017_GEFS_F048_Clean.nc\n",
      "/glade/scratch/wchapman/GEFS/F048/WY_2018_GEFS_F048_Clean.nc\n",
      "F054\n",
      "/glade/scratch/wchapman/GEFS/F054/WY_2016_GEFS_F054_Clean.nc\n",
      "/glade/scratch/wchapman/GEFS/F054/WY_2017_GEFS_F054_Clean.nc\n",
      "/glade/scratch/wchapman/GEFS/F054/WY_2018_GEFS_F054_Clean.nc\n",
      "F060\n",
      "/glade/scratch/wchapman/GEFS/F060/WY_2016_GEFS_F060_Clean.nc\n",
      "/glade/scratch/wchapman/GEFS/F060/WY_2017_GEFS_F060_Clean.nc\n",
      "/glade/scratch/wchapman/GEFS/F060/WY_2018_GEFS_F060_Clean.nc\n",
      "F066\n",
      "/glade/scratch/wchapman/GEFS/F066/WY_2016_GEFS_F066_Clean.nc\n",
      "/glade/scratch/wchapman/GEFS/F066/WY_2017_GEFS_F066_Clean.nc\n",
      "/glade/scratch/wchapman/GEFS/F066/WY_2018_GEFS_F066_Clean.nc\n",
      "F072\n",
      "/glade/scratch/wchapman/GEFS/F072/WY_2016_GEFS_F072_Clean.nc\n",
      "/glade/scratch/wchapman/GEFS/F072/WY_2017_GEFS_F072_Clean.nc\n",
      "/glade/scratch/wchapman/GEFS/F072/WY_2018_GEFS_F072_Clean.nc\n",
      "F078\n",
      "/glade/scratch/wchapman/GEFS/F078/WY_2016_GEFS_F078_Clean.nc\n",
      "/glade/scratch/wchapman/GEFS/F078/WY_2017_GEFS_F078_Clean.nc\n",
      "/glade/scratch/wchapman/GEFS/F078/WY_2018_GEFS_F078_Clean.nc\n",
      "F084\n",
      "/glade/scratch/wchapman/GEFS/F084/WY_2016_GEFS_F084_Clean.nc\n",
      "/glade/scratch/wchapman/GEFS/F084/WY_2017_GEFS_F084_Clean.nc\n",
      "/glade/scratch/wchapman/GEFS/F084/WY_2018_GEFS_F084_Clean.nc\n",
      "F090\n",
      "/glade/scratch/wchapman/GEFS/F090/WY_2016_GEFS_F090_Clean.nc\n",
      "/glade/scratch/wchapman/GEFS/F090/WY_2017_GEFS_F090_Clean.nc\n",
      "/glade/scratch/wchapman/GEFS/F090/WY_2018_GEFS_F090_Clean.nc\n",
      "F096\n",
      "/glade/scratch/wchapman/GEFS/F096/WY_2016_GEFS_F096_Clean.nc\n",
      "/glade/scratch/wchapman/GEFS/F096/WY_2017_GEFS_F096_Clean.nc\n",
      "/glade/scratch/wchapman/GEFS/F096/WY_2018_GEFS_F096_Clean.nc\n",
      "F102\n",
      "/glade/scratch/wchapman/GEFS/F102/WY_2016_GEFS_F102_Clean.nc\n",
      "/glade/scratch/wchapman/GEFS/F102/WY_2017_GEFS_F102_Clean.nc\n",
      "/glade/scratch/wchapman/GEFS/F102/WY_2018_GEFS_F102_Clean.nc\n",
      "F108\n",
      "/glade/scratch/wchapman/GEFS/F108/WY_2016_GEFS_F108_Clean.nc\n",
      "/glade/scratch/wchapman/GEFS/F108/WY_2017_GEFS_F108_Clean.nc\n",
      "/glade/scratch/wchapman/GEFS/F108/WY_2018_GEFS_F108_Clean.nc\n",
      "F114\n",
      "/glade/scratch/wchapman/GEFS/F114/WY_2016_GEFS_F114_Clean.nc\n",
      "/glade/scratch/wchapman/GEFS/F114/WY_2017_GEFS_F114_Clean.nc\n",
      "/glade/scratch/wchapman/GEFS/F114/WY_2018_GEFS_F114_Clean.nc\n",
      "F120\n",
      "/glade/scratch/wchapman/GEFS/F120/WY_2016_GEFS_F120_Clean.nc\n",
      "/glade/scratch/wchapman/GEFS/F120/WY_2017_GEFS_F120_Clean.nc\n",
      "/glade/scratch/wchapman/GEFS/F120/WY_2018_GEFS_F120_Clean.nc\n"
     ]
    }
   ],
   "source": [
    "\n",
    "fcasts = ['F'+f'{x:03}' for x in range(0,126,6)]\n",
    "for fcast in fcasts: \n",
    "    print(fcast)\n",
    "    path ='/glade/scratch/wchapman/GEFS/'\n",
    "    train_file_names = sorted([f for f in glob.glob(path + fcast+\"/WY*_\"+fcast+\"_Clean.nc\", recursive=True)])\n",
    "\n",
    "    for f in train_file_names:\n",
    "        print(f)\n",
    "        DAR=xr.open_dataset(f)\n",
    "        DARmean = DAR.mean(dim='ensemble')\n",
    "        DAR=xr.open_dataset(f)\n",
    "        DARstd = DAR.std(dim='ensemble')\n",
    "        DARmean = DARmean.rename(name_dict={'IVT':'IVT_mean'})\n",
    "        DARstd = DARstd.rename(name_dict={'IVT':'IVT_std'})\n",
    "        DARstd = DARstd.drop('IVTm')\n",
    "        DAR = DAR.merge(DARmean)\n",
    "        DAR = DAR.merge(DARstd)\n",
    "        DAR = DAR.drop('IVT')\n",
    "        DAR.to_netcdf(f[:-3]+'_noEnse.nc')\n",
    "    "
   ]
  },
  {
   "cell_type": "code",
   "execution_count": 19,
   "metadata": {},
   "outputs": [
    {
     "name": "stdout",
     "output_type": "stream",
     "text": [
      "/glade/scratch/wchapman/GEFS//F012/WY_2016_GEFS_F012.nc\n",
      "/glade/scratch/wchapman/GEFS//F012/WY_2017_GEFS_F012.nc\n",
      "/glade/scratch/wchapman/GEFS//F012/WY_2018_GEFS_F012.nc\n"
     ]
    }
   ],
   "source": [
    "path ='/glade/scratch/wchapman/GEFS/'\n",
    "\n",
    "\n",
    "train_file_names = sorted([f for f in glob.glob(path + \"/F012/WY*_F012.nc\", recursive=True)])\n",
    "for f in train_file_names:\n",
    "    print(f)\n",
    "    DAR=xr.open_dataset(f)\n",
    "    DARmean = DAR.mean(dim='ensemble')\n",
    "    DAR=xr.open_dataset(f)\n",
    "    DARstd = DAR.std(dim='ensemble')\n",
    "    DARmean = DARmean.rename(name_dict={'IVT':'IVT_mean'})\n",
    "    DARstd = DARstd.rename(name_dict={'IVT':'IVT_std'})\n",
    "    DARstd = DARstd.drop('IVTm')\n",
    "    DAR = DAR.merge(DARmean)\n",
    "    DAR = DAR.merge(DARstd)\n",
    "    DAR = DAR.drop('IVT')\n",
    "    DAR.to_netcdf(f[:-3]+'_noEnse.nc')"
   ]
  },
  {
   "cell_type": "code",
   "execution_count": 20,
   "metadata": {},
   "outputs": [
    {
     "name": "stdout",
     "output_type": "stream",
     "text": [
      "/glade/scratch/wchapman/GEFS//F072/WY_2016_GEFS_F072.nc\n",
      "/glade/scratch/wchapman/GEFS//F072/WY_2017_GEFS_F072.nc\n",
      "/glade/scratch/wchapman/GEFS//F072/WY_2018_GEFS_F072.nc\n"
     ]
    }
   ],
   "source": [
    "path ='/glade/scratch/wchapman/GEFS/'\n",
    "\n",
    "\n",
    "train_file_names = sorted([f for f in glob.glob(path + \"/F072/WY*_F072.nc\", recursive=True)])\n",
    "for f in train_file_names:\n",
    "    print(f)\n",
    "    DAR=xr.open_dataset(f)\n",
    "    DARmean = DAR.mean(dim='ensemble')\n",
    "    DAR=xr.open_dataset(f)\n",
    "    DARstd = DAR.std(dim='ensemble')\n",
    "    DARmean = DARmean.rename(name_dict={'IVT':'IVT_mean'})\n",
    "    DARstd = DARstd.rename(name_dict={'IVT':'IVT_std'})\n",
    "    DARstd = DARstd.drop('IVTm')\n",
    "    DAR = DAR.merge(DARmean)\n",
    "    DAR = DAR.merge(DARstd)\n",
    "    DAR = DAR.drop('IVT')\n",
    "    DAR.to_netcdf(f[:-3]+'_noEnse.nc')"
   ]
  },
  {
   "cell_type": "code",
   "execution_count": null,
   "metadata": {},
   "outputs": [],
   "source": []
  },
  {
   "cell_type": "markdown",
   "metadata": {},
   "source": [
    "## Select First Member"
   ]
  },
  {
   "cell_type": "code",
   "execution_count": 3,
   "metadata": {},
   "outputs": [],
   "source": []
  },
  {
   "cell_type": "code",
   "execution_count": 14,
   "metadata": {},
   "outputs": [
    {
     "name": "stdout",
     "output_type": "stream",
     "text": [
      "/glade/scratch/wchapman/GEFS//F048/WY_2016_GEFS_F048.nc\n",
      "/glade/scratch/wchapman/GEFS//F048/WY_2017_GEFS_F048.nc\n",
      "/glade/scratch/wchapman/GEFS//F048/WY_2018_GEFS_F048.nc\n"
     ]
    }
   ],
   "source": [
    "path ='/glade/scratch/wchapman/GEFS/'\n",
    "\n",
    "\n",
    "train_file_names = sorted([f for f in glob.glob(path + \"/F048/WY*_F048.nc\", recursive=True)])\n",
    "for f in train_file_names:\n",
    "    print(f)\n",
    "    DAR=xr.open_dataset(f)\n",
    "    DARens1 = DAR.isel(ensemble=0)\n",
    "    DARens1.to_netcdf(f[:-3]+'_mem1.nc')\n",
    "    \n"
   ]
  },
  {
   "cell_type": "code",
   "execution_count": 15,
   "metadata": {},
   "outputs": [
    {
     "name": "stdout",
     "output_type": "stream",
     "text": [
      "/glade/scratch/wchapman/GEFS//F024/WY_2016_GEFS_F024.nc\n",
      "/glade/scratch/wchapman/GEFS//F024/WY_2017_GEFS_F024.nc\n",
      "/glade/scratch/wchapman/GEFS//F024/WY_2018_GEFS_F024.nc\n"
     ]
    }
   ],
   "source": [
    "path ='/glade/scratch/wchapman/GEFS/'\n",
    "\n",
    "\n",
    "train_file_names = sorted([f for f in glob.glob(path + \"/F024/WY*_F024.nc\", recursive=True)])\n",
    "for f in train_file_names:\n",
    "    print(f)\n",
    "    DAR=xr.open_dataset(f)\n",
    "    DARens1 = DAR.isel(ensemble=0)\n",
    "    DARens1.to_netcdf(f[:-3]+'_mem1.nc')\n",
    "    "
   ]
  },
  {
   "cell_type": "code",
   "execution_count": 16,
   "metadata": {},
   "outputs": [
    {
     "name": "stdout",
     "output_type": "stream",
     "text": [
      "/glade/scratch/wchapman/GEFS//F012/WY_2016_GEFS_F012.nc\n",
      "/glade/scratch/wchapman/GEFS//F012/WY_2017_GEFS_F012.nc\n",
      "/glade/scratch/wchapman/GEFS//F012/WY_2018_GEFS_F012.nc\n"
     ]
    }
   ],
   "source": [
    "path ='/glade/scratch/wchapman/GEFS/'\n",
    "\n",
    "\n",
    "train_file_names = sorted([f for f in glob.glob(path + \"/F012/WY*_F012.nc\", recursive=True)])\n",
    "for f in train_file_names:\n",
    "    print(f)\n",
    "    DAR=xr.open_dataset(f)\n",
    "    DARens1 = DAR.isel(ensemble=0)\n",
    "    DARens1.to_netcdf(f[:-3]+'_mem1.nc')"
   ]
  },
  {
   "cell_type": "code",
   "execution_count": 17,
   "metadata": {},
   "outputs": [
    {
     "name": "stdout",
     "output_type": "stream",
     "text": [
      "/glade/scratch/wchapman/GEFS//F072/WY_2016_GEFS_F072.nc\n",
      "/glade/scratch/wchapman/GEFS//F072/WY_2017_GEFS_F072.nc\n",
      "/glade/scratch/wchapman/GEFS//F072/WY_2018_GEFS_F072.nc\n"
     ]
    }
   ],
   "source": [
    "path ='/glade/scratch/wchapman/GEFS/'\n",
    "\n",
    "\n",
    "train_file_names = sorted([f for f in glob.glob(path + \"/F072/WY*_F072.nc\", recursive=True)])\n",
    "for f in train_file_names:\n",
    "    print(f)\n",
    "    DAR=xr.open_dataset(f)\n",
    "    DARens1 = DAR.isel(ensemble=0)\n",
    "    DARens1.to_netcdf(f[:-3]+'_mem1.nc')"
   ]
  },
  {
   "cell_type": "code",
   "execution_count": null,
   "metadata": {},
   "outputs": [],
   "source": []
  },
  {
   "cell_type": "code",
   "execution_count": null,
   "metadata": {},
   "outputs": [],
   "source": []
  }
 ],
 "metadata": {
  "kernelspec": {
   "display_name": "Python (CCA)",
   "language": "python",
   "name": "mca_cca"
  },
  "language_info": {
   "codemirror_mode": {
    "name": "ipython",
    "version": 3
   },
   "file_extension": ".py",
   "mimetype": "text/x-python",
   "name": "python",
   "nbconvert_exporter": "python",
   "pygments_lexer": "ipython3",
   "version": "3.6.8"
  }
 },
 "nbformat": 4,
 "nbformat_minor": 2
}
